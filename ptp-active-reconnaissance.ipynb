{
 "cells": [
  {
   "cell_type": "markdown",
   "id": "d4ee9e4b",
   "metadata": {},
   "source": [
    "***\n",
    "< [Home](https://github.com/SeanOhAileasa) | [README](https://github.com/SeanOhAileasa/ptp-active-reconnaissance/blob/main/README.md) >\n",
    "\n",
    "## CompTIA PenTest+ - Course Material 2022\n",
    "###### Topic: ``Active Reconnaissance``\n",
    "***"
   ]
  },
  {
   "cell_type": "markdown",
   "id": "b82b07fb",
   "metadata": {},
   "source": [
    "Course material for the ``CompTIA PenTest+`` module of the ``ICT Associate Apprenticeship (Cybersecurity)`` programme."
   ]
  },
  {
   "cell_type": "markdown",
   "id": "e7228f57",
   "metadata": {},
   "source": [
    "<a id=\"top\"></a>\n",
    "***\n",
    "## Table of Contents\n",
    "***"
   ]
  },
  {
   "cell_type": "markdown",
   "id": "c2bb5e7b",
   "metadata": {},
   "source": [
    "### [Active Reconnaissance](#aa) <br/><br/>\n",
    "<hr width=50%;>"
   ]
  },
  {
   "cell_type": "markdown",
   "id": "e0891873",
   "metadata": {},
   "source": [
    "### [Active Reconnaissance Enumeration](#A) <br/><br/>\n",
    "<hr width=50%;>"
   ]
  },
  {
   "cell_type": "markdown",
   "id": "8a46b85f",
   "metadata": {},
   "source": [
    "### [Web Site Reconnaissance Techniques](#B) <br/><br/>\n",
    "<hr width=50%;>"
   ]
  },
  {
   "cell_type": "markdown",
   "id": "4a4d979b",
   "metadata": {},
   "source": [
    "### [Packet Crafting and Scapy Packet Manipulation](#C) <br/><br/>\n",
    "<hr width=50%;>"
   ]
  },
  {
   "cell_type": "markdown",
   "id": "9950853d",
   "metadata": {},
   "source": [
    "### [Defense Detection Techniques](#D) <br/><br/>\n",
    "<hr width=50%;>"
   ]
  },
  {
   "cell_type": "markdown",
   "id": "24ac432c",
   "metadata": {},
   "source": [
    "### [Active Reconnaissance Tokens](#E) <br/><br/>\n",
    "<hr width=50%;>"
   ]
  },
  {
   "cell_type": "markdown",
   "id": "d686a367",
   "metadata": {},
   "source": [
    "### [Wardriving Techniques](#F) <br/><br/>\n",
    "<hr width=50%;>"
   ]
  },
  {
   "cell_type": "markdown",
   "id": "f9253574",
   "metadata": {},
   "source": [
    "### [Network Traffic Reconnaissance](#G) <br/><br/>\n",
    "<hr width=50%;>"
   ]
  },
  {
   "cell_type": "markdown",
   "id": "05e5925e",
   "metadata": {},
   "source": [
    "### [Cloud Asset Discovery](#H) <br/><br/>\n",
    "<hr width=50%;>"
   ]
  },
  {
   "cell_type": "markdown",
   "id": "805ecc77",
   "metadata": {},
   "source": [
    "### [Third-party Hosted Services](#I) <br/><br/>\n",
    "<hr width=50%;>"
   ]
  },
  {
   "cell_type": "markdown",
   "id": "93b2ba7f",
   "metadata": {},
   "source": [
    "### [Active Fingerprinting Techniques](#J) <br/><br/>\n",
    "<hr width=50%;>"
   ]
  },
  {
   "cell_type": "markdown",
   "id": "2acb8167",
   "metadata": {},
   "source": [
    "### [Reconnaissance Output Analysis](#K) <br/><br/>\n",
    "<hr width=50%;>"
   ]
  },
  {
   "cell_type": "markdown",
   "id": "b213665d",
   "metadata": {},
   "source": [
    "### [Course Summary](#L)<br/><br/>\n",
    "<hr width=50%;>"
   ]
  },
  {
   "cell_type": "markdown",
   "id": "bf2b95e2",
   "metadata": {},
   "source": [
    "***\n",
    "## END"
   ]
  },
  {
   "cell_type": "markdown",
   "id": "34aa6eb5",
   "metadata": {},
   "source": [
    "< [Table of Contents](#top) | [References](#references) >\n",
    "<a id=\"aa\"></a>\n",
    "***\n",
    "### Active Reconnaissance\n",
    "***"
   ]
  },
  {
   "cell_type": "markdown",
   "id": "173e78b5",
   "metadata": {},
   "source": []
  },
  {
   "cell_type": "markdown",
   "id": "5218a732",
   "metadata": {},
   "source": [
    "< [Table of Contents](#top) | [References](#references) >\n",
    "<a id=\"A\"></a>\n",
    "***\n",
    "### Active Reconnaissance Enumeration\n",
    "*** "
   ]
  },
  {
   "cell_type": "markdown",
   "id": "688c9f78",
   "metadata": {},
   "source": []
  },
  {
   "cell_type": "markdown",
   "id": "9c9e4657",
   "metadata": {},
   "source": [
    "< [Table of Contents](#top) | [References](#references) >\n",
    "<a id=\"B\"></a>\n",
    "***\n",
    "### Web Site Reconnaissance Techniques\n",
    "*** "
   ]
  },
  {
   "cell_type": "markdown",
   "id": "b432bf00",
   "metadata": {},
   "source": []
  },
  {
   "cell_type": "markdown",
   "id": "4baa7263",
   "metadata": {},
   "source": [
    "< [Table of Contents](#top) | [References](#references) >\n",
    "<a id=\"C\"></a>\n",
    "***\n",
    "### Packet Crafting and Scapy Packet Manipulation\n",
    "*** "
   ]
  },
  {
   "cell_type": "markdown",
   "id": "08b77ebd",
   "metadata": {},
   "source": []
  },
  {
   "cell_type": "markdown",
   "id": "441102a1",
   "metadata": {},
   "source": [
    "< [Table of Contents](#top) | [References](#references) >\n",
    "<a id=\"D\"></a>\n",
    "***\n",
    "### Defense Detection Techniques\n",
    "*** "
   ]
  },
  {
   "cell_type": "markdown",
   "id": "f6e7a77b",
   "metadata": {},
   "source": []
  },
  {
   "cell_type": "markdown",
   "id": "34616ec0",
   "metadata": {},
   "source": [
    "< [Table of Contents](#top) | [References](#references) >\n",
    "<a id=\"E\"></a>\n",
    "***\n",
    "### Active Reconnaissance Tokens\n",
    "*** "
   ]
  },
  {
   "cell_type": "markdown",
   "id": "6bcb004f",
   "metadata": {},
   "source": []
  },
  {
   "cell_type": "markdown",
   "id": "cc878d3f",
   "metadata": {},
   "source": [
    "< [Table of Contents](#top) | [References](#references) >\n",
    "<a id=\"F\"></a>\n",
    "***\n",
    "### Wardriving Techniques\n",
    "*** "
   ]
  },
  {
   "cell_type": "markdown",
   "id": "d1331537",
   "metadata": {},
   "source": []
  },
  {
   "cell_type": "markdown",
   "id": "0fd8154b",
   "metadata": {},
   "source": [
    "< [Table of Contents](#top) | [References](#references) >\n",
    "<a id=\"G\"></a>\n",
    "***\n",
    "### Network Traffic Reconnaissance\n",
    "*** "
   ]
  },
  {
   "cell_type": "markdown",
   "id": "913610b8",
   "metadata": {},
   "source": []
  },
  {
   "cell_type": "markdown",
   "id": "514e6454",
   "metadata": {},
   "source": [
    "< [Table of Contents](#top) | [References](#references) >\n",
    "<a id=\"H\"></a>\n",
    "***\n",
    "### Cloud Asset Discovery\n",
    "*** "
   ]
  },
  {
   "cell_type": "markdown",
   "id": "98a349d0",
   "metadata": {},
   "source": []
  },
  {
   "cell_type": "markdown",
   "id": "be518b1a",
   "metadata": {},
   "source": [
    "< [Table of Contents](#top) | [References](#references) >\n",
    "<a id=\"I\"></a>\n",
    "***\n",
    "### Third-party Hosted Services\n",
    "*** "
   ]
  },
  {
   "cell_type": "markdown",
   "id": "25a82535",
   "metadata": {},
   "source": []
  },
  {
   "cell_type": "markdown",
   "id": "8323d8e7",
   "metadata": {},
   "source": [
    "< [Table of Contents](#top) | [References](#references) >\n",
    "<a id=\"J\"></a>\n",
    "***\n",
    "### Active Fingerprinting Techniques\n",
    "*** "
   ]
  },
  {
   "cell_type": "markdown",
   "id": "0d334165",
   "metadata": {},
   "source": []
  },
  {
   "cell_type": "markdown",
   "id": "26061f8f",
   "metadata": {},
   "source": [
    "< [Table of Contents](#top) | [References](#references) >\n",
    "<a id=\"K\"></a>\n",
    "***\n",
    "### Reconnaissance Output Analysis\n",
    "*** "
   ]
  },
  {
   "cell_type": "markdown",
   "id": "fa3d0ff9",
   "metadata": {},
   "source": []
  },
  {
   "cell_type": "markdown",
   "id": "f48c8e5c",
   "metadata": {},
   "source": [
    "< [Table of Contents](#top) | [References](#references) >\n",
    "<a id=\"L\"></a>\n",
    "***\n",
    "### Course Summary\n",
    "*** "
   ]
  },
  {
   "cell_type": "markdown",
   "id": "9798e001",
   "metadata": {},
   "source": []
  },
  {
   "cell_type": "markdown",
   "id": "2cc20932",
   "metadata": {},
   "source": [
    "***\n",
    "## END"
   ]
  },
  {
   "cell_type": "markdown",
   "id": "e0e42d51",
   "metadata": {},
   "source": [
    "< [Table of Contents](#top) >\n",
    "<a id=\"references\"></a>\n",
    "***\n",
    "## References\n",
    "***"
   ]
  },
  {
   "cell_type": "markdown",
   "id": "757bf6de",
   "metadata": {},
   "source": [
    "&nbsp;&nbsp;&nbsp;&nbsp;&nbsp;&nbsp;&nbsp;&nbsp;&nbsp;skillsoft, \"Active Reconnaissance,\" [skillsoft.com](https://web.archive.org/web/20220403100053/https://www.skillsoft.com/), n.d.."
   ]
  },
  {
   "cell_type": "markdown",
   "id": "b33c372a",
   "metadata": {},
   "source": [
    "***\n",
    "## END"
   ]
  },
  {
   "cell_type": "markdown",
   "id": "e5961b4d",
   "metadata": {},
   "source": [
    "< [Table of Contents](#top) | [References](#references) >\n",
    "<a id=\"appendix\"></a>\n",
    "***\n",
    "## Appendix\n",
    "***"
   ]
  },
  {
   "cell_type": "markdown",
   "id": "00d82a82",
   "metadata": {},
   "source": [
    "***\n",
    "## END"
   ]
  },
  {
   "cell_type": "code",
   "execution_count": 1,
   "id": "706756a2",
   "metadata": {},
   "outputs": [
    {
     "name": "stderr",
     "output_type": "stream",
     "text": [
      "C:\\Users\\SeanOhAileasa\\AppData\\Local\\Temp\\ipykernel_20624\\1322614208.py:1: DeprecationWarning: Importing display from IPython.core.display is deprecated since IPython 7.14, please import from IPython display\n",
      "  from IPython.core.display import display,HTML\n"
     ]
    },
    {
     "data": {
      "text/html": [
       "<style>.container { width:100% !important; }</style>"
      ],
      "text/plain": [
       "<IPython.core.display.HTML object>"
      ]
     },
     "metadata": {},
     "output_type": "display_data"
    }
   ],
   "source": [
    "from IPython.core.display import display,HTML\n",
    "display(HTML(\"<style>.container { width:100% !important; }</style>\"))"
   ]
  },
  {
   "cell_type": "markdown",
   "id": "899c1783",
   "metadata": {},
   "source": [
    "# END JUPYTER NOTEBOOK"
   ]
  }
 ],
 "metadata": {
  "kernelspec": {
   "display_name": "Python 3 (ipykernel)",
   "language": "python",
   "name": "python3"
  },
  "language_info": {
   "codemirror_mode": {
    "name": "ipython",
    "version": 3
   },
   "file_extension": ".py",
   "mimetype": "text/x-python",
   "name": "python",
   "nbconvert_exporter": "python",
   "pygments_lexer": "ipython3",
   "version": "3.9.12"
  }
 },
 "nbformat": 4,
 "nbformat_minor": 5
}
